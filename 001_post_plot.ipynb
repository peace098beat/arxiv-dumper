{
 "cells": [
  {
   "cell_type": "code",
   "execution_count": 136,
   "id": "a6d1fd6f-c464-4f37-9ffb-47896a3c2188",
   "metadata": {},
   "outputs": [],
   "source": [
    "import pandas as pd\n",
    "from pathlib import Path\n",
    "from matplotlib import pyplot as plt\n",
    "import seaborn as sns"
   ]
  },
  {
   "cell_type": "code",
   "execution_count": 3,
   "id": "8d82810b-2fd5-456b-a488-dfda8fc67769",
   "metadata": {},
   "outputs": [
    {
     "name": "stdout",
     "output_type": "stream",
     "text": [
      "data/010000.csv 1000\n",
      "data/002000.csv 1000\n",
      "data/000000.csv 1000\n",
      "data/012000.csv 56\n",
      "data/008000.csv 1000\n",
      "data/004000.csv 1000\n",
      "data/006000.csv 1000\n",
      "data/011000.csv 1000\n",
      "data/003000.csv 1000\n",
      "data/001000.csv 1000\n",
      "data/009000.csv 1000\n",
      "data/005000.csv 1000\n",
      "data/007000.csv 1000\n"
     ]
    }
   ],
   "source": [
    "\n",
    "csv_paths = Path(\"data\").glob(\"*.csv\")\n",
    "\n",
    "buf = []\n",
    "for csv_path in csv_paths:\n",
    "    df_csv = pd.read_csv(csv_path)\n",
    "    print(csv_path, len(df_csv))\n",
    "    buf.append(df_csv)\n"
   ]
  },
  {
   "cell_type": "code",
   "execution_count": 177,
   "id": "5b90e6df-7a17-41ce-a0fd-4ab09199fe32",
   "metadata": {},
   "outputs": [],
   "source": [
    "usecols = [\n",
    "'id',\n",
    "# 'guidislink',\n",
    "# 'link',\n",
    "# 'updated',\n",
    "# 'updated_parsed',\n",
    "'published',\n",
    "# 'published_parsed',\n",
    "'title',\n",
    "# 'title_detail',\n",
    "'summary',\n",
    "# 'summary_detail',\n",
    "'authors',\n",
    "# 'author_detail',\n",
    "'author',\n",
    "# 'links',\n",
    "'arxiv_primary_category',\n",
    "'tags',\n",
    "# 'arxiv_comment',\n",
    "# 'arxiv_doi',\n",
    "# 'arxiv_affiliation',\n",
    "# 'arxiv_journal_ref'\n",
    "]\n",
    "\n",
    "df = pd.concat(buf).reset_index(drop=True)\n",
    "assert df.duplicated(subset=\"id\").sum() == 0,  df.duplicated(subset=\"id\").sum()\n",
    "\n",
    "df = df[usecols]\n",
    "\n",
    "df[\"published\"] = pd.to_datetime(df[\"published\"])\n",
    "df = df.sort_values(\"published\")\n",
    "\n",
    "df[\"primary_category\"] = df[\"arxiv_primary_category\"].apply(lambda x: eval(x)[\"term\"])\n",
    "\n",
    "df[\"primary_category_head\"] = df[\"primary_category\"].apply(lambda x: x.split(\".\")[0])\n",
    "\n",
    "df = df.set_index(\"published\")\n",
    "\n",
    "df = df[\"2015\":\"2020\"]\n",
    "\n",
    "\n",
    "df[\"title\"] = df[\"title\"].replace(\"\\n|\\r\", \"\", regex=True)\n",
    "df[\"summary\"] = df[\"summary\"].replace(\"\\n|\\r\", \"\", regex=True)\n",
    "\n",
    "\n",
    "target_category = ['cs', 'stat','eess','q-fin','econ']\n",
    "m = df[\"primary_category_head\"].isin(target_category)\n",
    "df = df[m]"
   ]
  },
  {
   "cell_type": "code",
   "execution_count": 169,
   "id": "63c4eabb-2613-478e-8c74-085c2a50a694",
   "metadata": {},
   "outputs": [
    {
     "data": {
      "text/plain": [
       "'Given a pattern x of length m and a text y of length n, both over an ordered alphabet, the order-preserving pattern matching problem consists in finding all substrings of the text with the same relative order as the pattern. It is an approximate variant of the well known exact pattern matching problem which has gained attention in recent years. This interesting problem finds applications in a lot of fields as time series analysis, like share prices on stock markets, weather data analysis or to musical melody matching. In this paper we present two new filtering approaches which turn out to be much more effective in practice than the previously presented methods. From our experimental results it turns out that our proposed solutions are up to 2 times faster than the previous solutions reducing the number of false positives up to 99%'"
      ]
     },
     "execution_count": 169,
     "metadata": {},
     "output_type": "execute_result"
    }
   ],
   "source": [
    "df[\"summary\"].iloc[6].replace(\"\\n\", \" \")"
   ]
  },
  {
   "cell_type": "code",
   "execution_count": 170,
   "id": "f0c5bc61-20ce-4526-a06f-8819106afd7c",
   "metadata": {},
   "outputs": [
    {
     "data": {
      "text/plain": [
       "published\n",
       "2015-01-02 14:09:46+00:00    While analyzing vehicular sensor data, we foun...\n",
       "2015-01-02 21:15:00+00:00    A particular case of Recurrent Neural Network ...\n",
       "2015-01-06 17:57:36+00:00    Cointegration analysis is used to estimate the...\n",
       "2015-01-06 19:21:24+00:00    The abundance of online user data has led to a...\n",
       "2015-01-07 03:34:52+00:00    Social network based trust relationships prese...\n",
       "                                                   ...                        \n",
       "2020-12-30 06:33:51+00:00    With large quantities of data typically availa...\n",
       "2020-12-31 02:48:35+00:00    In the past two decades, the field of applied ...\n",
       "2020-12-31 04:01:13+00:00    We estimate the relationship between GDP per c...\n",
       "2020-12-31 16:22:30+00:00    The paper proposes a computational adaptation ...\n",
       "2020-12-31 21:10:09+00:00    Thumbnail is the face of online videos. The ex...\n",
       "Name: summary, Length: 4093, dtype: object"
      ]
     },
     "execution_count": 170,
     "metadata": {},
     "output_type": "execute_result"
    }
   ],
   "source": [
    "df[\"summary\"].apply(lambda x: x.replace(\"\\n\", \" \").replace(\"\\r\", \"\"))"
   ]
  },
  {
   "cell_type": "code",
   "execution_count": 176,
   "id": "ce403f1c-954f-4b0d-9816-0d6df3189269",
   "metadata": {},
   "outputs": [
    {
     "data": {
      "text/plain": [
       "published\n",
       "2015-01-02 14:09:46+00:00                                              abcdefg\n",
       "2015-01-02 21:15:00+00:00    A particular case of Recurrent Neural Network ...\n",
       "2015-01-06 17:57:36+00:00    Cointegration analysis is used to estimate the...\n",
       "2015-01-06 19:21:24+00:00    The abundance of online user data has led to a...\n",
       "2015-01-07 03:34:52+00:00    Social network based trust relationships prese...\n",
       "                                                   ...                        \n",
       "2020-12-30 06:33:51+00:00    With large quantities of data typically availa...\n",
       "2020-12-31 02:48:35+00:00    In the past two decades, the field of applied ...\n",
       "2020-12-31 04:01:13+00:00    We estimate the relationship between GDP per c...\n",
       "2020-12-31 16:22:30+00:00    The paper proposes a computational adaptation ...\n",
       "2020-12-31 21:10:09+00:00    Thumbnail is the face of online videos. The ex...\n",
       "Name: summary, Length: 4093, dtype: object"
      ]
     },
     "execution_count": 176,
     "metadata": {},
     "output_type": "execute_result"
    }
   ],
   "source": [
    "dfp = df.copy()\n",
    "dfp[\"summary\"].iloc[0] = \"abcd\\nefg\\r\"\n",
    "df[\"summary\"].replace(\"\\n|\\r\", \"\", regex=True)"
   ]
  },
  {
   "cell_type": "code",
   "execution_count": 134,
   "id": "c33dcc93-d4f3-4b3d-be42-0b7202fe2d8e",
   "metadata": {},
   "outputs": [
    {
     "data": {
      "image/png": "[encoded data removed]",
      "text/plain": [
       "<Figure size 864x216 with 1 Axes>"
      ]
     },
     "metadata": {
      "needs_background": "light"
     },
     "output_type": "display_data"
    }
   ],
   "source": [
    "df_count = df[\"primary_category_head\"].groupby(pd.Grouper(freq='Y')).count()\n",
    "\n",
    "x = df_count.index\n",
    "y = df_count.values\n",
    "\n",
    "plt.figure(figsize=(12, 3))\n",
    "plt.plot(x, y, \":o\")\n",
    "plt.grid()"
   ]
  },
  {
   "cell_type": "code",
   "execution_count": 155,
   "id": "9a158c32-852c-4139-8b5b-7485b6ff48c3",
   "metadata": {},
   "outputs": [
    {
     "data": {
      "text/html": [
       "<div>\n",
       "<style scoped>\n",
       "    .dataframe tbody tr th:only-of-type {\n",
       "        vertical-align: middle;\n",
       "    }\n",
       "\n",
       "    .dataframe tbody tr th {\n",
       "        vertical-align: top;\n",
       "    }\n",
       "\n",
       "    .dataframe thead th {\n",
       "        text-align: right;\n",
       "    }\n",
       "</style>\n",
       "<table border=\"1\" class=\"dataframe\">\n",
       "  <thead>\n",
       "    <tr style=\"text-align: right;\">\n",
       "      <th></th>\n",
       "      <th>published</th>\n",
       "      <th>primary_category_head</th>\n",
       "      <th>id</th>\n",
       "    </tr>\n",
       "  </thead>\n",
       "  <tbody>\n",
       "    <tr>\n",
       "      <th>0</th>\n",
       "      <td>2015-03-31 00:00:00+00:00</td>\n",
       "      <td>cs</td>\n",
       "      <td>29</td>\n",
       "    </tr>\n",
       "    <tr>\n",
       "      <th>1</th>\n",
       "      <td>2015-03-31 00:00:00+00:00</td>\n",
       "      <td>q-fin</td>\n",
       "      <td>5</td>\n",
       "    </tr>\n",
       "    <tr>\n",
       "      <th>2</th>\n",
       "      <td>2015-03-31 00:00:00+00:00</td>\n",
       "      <td>stat</td>\n",
       "      <td>21</td>\n",
       "    </tr>\n",
       "    <tr>\n",
       "      <th>3</th>\n",
       "      <td>2015-06-30 00:00:00+00:00</td>\n",
       "      <td>cs</td>\n",
       "      <td>34</td>\n",
       "    </tr>\n",
       "    <tr>\n",
       "      <th>4</th>\n",
       "      <td>2015-06-30 00:00:00+00:00</td>\n",
       "      <td>q-fin</td>\n",
       "      <td>11</td>\n",
       "    </tr>\n",
       "    <tr>\n",
       "      <th>...</th>\n",
       "      <td>...</td>\n",
       "      <td>...</td>\n",
       "      <td>...</td>\n",
       "    </tr>\n",
       "    <tr>\n",
       "      <th>96</th>\n",
       "      <td>2020-12-31 00:00:00+00:00</td>\n",
       "      <td>cs</td>\n",
       "      <td>176</td>\n",
       "    </tr>\n",
       "    <tr>\n",
       "      <th>97</th>\n",
       "      <td>2020-12-31 00:00:00+00:00</td>\n",
       "      <td>econ</td>\n",
       "      <td>15</td>\n",
       "    </tr>\n",
       "    <tr>\n",
       "      <th>98</th>\n",
       "      <td>2020-12-31 00:00:00+00:00</td>\n",
       "      <td>eess</td>\n",
       "      <td>36</td>\n",
       "    </tr>\n",
       "    <tr>\n",
       "      <th>99</th>\n",
       "      <td>2020-12-31 00:00:00+00:00</td>\n",
       "      <td>q-fin</td>\n",
       "      <td>18</td>\n",
       "    </tr>\n",
       "    <tr>\n",
       "      <th>100</th>\n",
       "      <td>2020-12-31 00:00:00+00:00</td>\n",
       "      <td>stat</td>\n",
       "      <td>83</td>\n",
       "    </tr>\n",
       "  </tbody>\n",
       "</table>\n",
       "<p>101 rows × 3 columns</p>\n",
       "</div>"
      ],
      "text/plain": [
       "                    published primary_category_head   id\n",
       "0   2015-03-31 00:00:00+00:00                    cs   29\n",
       "1   2015-03-31 00:00:00+00:00                 q-fin    5\n",
       "2   2015-03-31 00:00:00+00:00                  stat   21\n",
       "3   2015-06-30 00:00:00+00:00                    cs   34\n",
       "4   2015-06-30 00:00:00+00:00                 q-fin   11\n",
       "..                        ...                   ...  ...\n",
       "96  2020-12-31 00:00:00+00:00                    cs  176\n",
       "97  2020-12-31 00:00:00+00:00                  econ   15\n",
       "98  2020-12-31 00:00:00+00:00                  eess   36\n",
       "99  2020-12-31 00:00:00+00:00                 q-fin   18\n",
       "100 2020-12-31 00:00:00+00:00                  stat   83\n",
       "\n",
       "[101 rows x 3 columns]"
      ]
     },
     "execution_count": 155,
     "metadata": {},
     "output_type": "execute_result"
    }
   ],
   "source": [
    "df_cat_count = df.groupby(\n",
    "    [pd.Grouper(freq='Q'), \"primary_category_head\"])[\"id\"].count().reset_index()\n",
    "df_cat_count"
   ]
  },
  {
   "cell_type": "code",
   "execution_count": 156,
   "id": "447c0b9f-7295-420e-b965-5ae84d15f0f5",
   "metadata": {},
   "outputs": [
    {
     "data": {
      "text/plain": [
       "<AxesSubplot:xlabel='published', ylabel='id'>"
      ]
     },
     "execution_count": 156,
     "metadata": {},
     "output_type": "execute_result"
    },
    {
     "data": {
      "image/png": "[encoded data removed]",
      "text/plain": [
       "<Figure size 864x360 with 1 Axes>"
      ]
     },
     "metadata": {
      "needs_background": "light"
     },
     "output_type": "display_data"
    }
   ],
   "source": [
    "fig, ax = plt.subplots(figsize=(12, 5))\n",
    "sns.lineplot(data=df_cat_count, x=\"published\", y=\"id\", hue=\"primary_category_head\", markers=True, dashes=True)"
   ]
  },
  {
   "cell_type": "code",
   "execution_count": null,
   "id": "5ab01f33-7172-44b4-bb8d-e783eaa0d4f0",
   "metadata": {},
   "outputs": [],
   "source": []
  },
  {
   "cell_type": "code",
   "execution_count": null,
   "id": "bd5fab9d-5974-457e-9c83-fc17e6483bd5",
   "metadata": {},
   "outputs": [],
   "source": []
  },
  {
   "cell_type": "code",
   "execution_count": null,
   "id": "2a598a43-3aa8-47d6-9a86-44c437b88c88",
   "metadata": {},
   "outputs": [],
   "source": []
  },
  {
   "cell_type": "code",
   "execution_count": null,
   "id": "c35d12a0-37db-490e-bc25-ba5950b7be4b",
   "metadata": {},
   "outputs": [],
   "source": []
  },
  {
   "cell_type": "code",
   "execution_count": null,
   "id": "b58bae63-bf4a-49c9-9549-2087df2d69ed",
   "metadata": {},
   "outputs": [],
   "source": []
  }
 ],
 "metadata": {
  "kernelspec": {
   "display_name": "Python 3",
   "language": "python",
   "name": "python3"
  },
  "language_info": {
   "codemirror_mode": {
    "name": "ipython",
    "version": 3
   },
   "file_extension": ".py",
   "mimetype": "text/x-python",
   "name": "python",
   "nbconvert_exporter": "python",
   "pygments_lexer": "ipython3",
   "version": "3.7.9"
  }
 },
 "nbformat": 4,
 "nbformat_minor": 5
}
